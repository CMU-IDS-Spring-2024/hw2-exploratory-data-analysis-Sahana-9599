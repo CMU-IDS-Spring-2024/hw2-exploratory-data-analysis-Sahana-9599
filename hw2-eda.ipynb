{
 "cells": [
  {
   "cell_type": "code",
   "execution_count": 1,
   "metadata": {},
   "outputs": [],
   "source": [
    "import pandas as pd\n",
    "import altair as alt"
   ]
  },
  {
   "cell_type": "markdown",
   "metadata": {},
   "source": [
    "# Part 1 - Data Cleaning"
   ]
  },
  {
   "cell_type": "markdown",
   "metadata": {},
   "source": [
    "## Data Loading\n",
    "We load the data, provided in `hw2-crowd-data.csv`"
   ]
  },
  {
   "cell_type": "code",
   "execution_count": 2,
   "metadata": {},
   "outputs": [],
   "source": [
    "df_cars = pd.read_csv(\"hw2-crowd-data.csv\")"
   ]
  },
  {
   "cell_type": "code",
   "execution_count": 3,
   "metadata": {},
   "outputs": [
    {
     "data": {
      "text/plain": [
       "458"
      ]
     },
     "execution_count": 3,
     "metadata": {},
     "output_type": "execute_result"
    }
   ],
   "source": [
    "# what is the length of my dataframe?\n",
    "len(df_cars)"
   ]
  },
  {
   "cell_type": "markdown",
   "metadata": {},
   "source": [
    "## Data Cleaning\n",
    "You need to clean the rows and columns of data using Pandas.  Insert the code (and descriptions of the code in markdown) in this subsection."
   ]
  },
  {
   "cell_type": "code",
   "execution_count": 4,
   "metadata": {},
   "outputs": [
    {
     "name": "stdout",
     "output_type": "stream",
     "text": [
      "<class 'pandas.core.frame.DataFrame'>\n",
      "RangeIndex: 458 entries, 0 to 457\n",
      "Data columns (total 15 columns):\n",
      " #   Column                Non-Null Count  Dtype  \n",
      "---  ------                --------------  -----  \n",
      " 0   Car Make              458 non-null    object \n",
      " 1   Car Model             457 non-null    object \n",
      " 2   Dealer or Individual  453 non-null    object \n",
      " 3   Price                 456 non-null    float64\n",
      " 4   Year                  458 non-null    int64  \n",
      " 5   Location              446 non-null    object \n",
      " 6   Mileage               449 non-null    float64\n",
      " 7   Doors                 440 non-null    object \n",
      " 8   Color                 454 non-null    object \n",
      " 9   Transmission          455 non-null    object \n",
      " 10  VIN#                  452 non-null    object \n",
      " 11  Engine                444 non-null    object \n",
      " 12  Description           354 non-null    object \n",
      " 13  Web link              457 non-null    object \n",
      " 14  Screenshot            435 non-null    object \n",
      "dtypes: float64(2), int64(1), object(12)\n",
      "memory usage: 53.8+ KB\n"
     ]
    }
   ],
   "source": [
    "df_cars.info()"
   ]
  },
  {
   "cell_type": "markdown",
   "metadata": {},
   "source": [
    "### Checking for Duplicate Values"
   ]
  },
  {
   "cell_type": "code",
   "execution_count": 5,
   "metadata": {},
   "outputs": [
    {
     "data": {
      "text/plain": [
       "0      False\n",
       "1      False\n",
       "2      False\n",
       "3      False\n",
       "4      False\n",
       "       ...  \n",
       "453    False\n",
       "454    False\n",
       "455    False\n",
       "456    False\n",
       "457    False\n",
       "Length: 458, dtype: bool"
      ]
     },
     "execution_count": 5,
     "metadata": {},
     "output_type": "execute_result"
    }
   ],
   "source": [
    "df_cars.duplicated()"
   ]
  },
  {
   "cell_type": "markdown",
   "metadata": {},
   "source": [
    "Out of all the columns, I want to mainly check for duplicates in VIN# , because it has to be unique for this case."
   ]
  },
  {
   "cell_type": "code",
   "execution_count": 7,
   "metadata": {},
   "outputs": [
    {
     "data": {
      "text/plain": [
       "34"
      ]
     },
     "execution_count": 7,
     "metadata": {},
     "output_type": "execute_result"
    }
   ],
   "source": [
    "df_cars.duplicated(subset='VIN#', keep=False).sum()"
   ]
  },
  {
   "cell_type": "code",
   "execution_count": 8,
   "metadata": {},
   "outputs": [],
   "source": [
    "df_cars.drop_duplicates(subset='VIN#', keep='first', inplace=True)"
   ]
  },
  {
   "cell_type": "code",
   "execution_count": 9,
   "metadata": {},
   "outputs": [
    {
     "data": {
      "text/plain": [
       "0"
      ]
     },
     "execution_count": 9,
     "metadata": {},
     "output_type": "execute_result"
    }
   ],
   "source": [
    "df_cars.duplicated(subset='VIN#', keep=False).sum()"
   ]
  },
  {
   "cell_type": "markdown",
   "metadata": {},
   "source": [
    "Now the duplicates have been dropped."
   ]
  },
  {
   "cell_type": "markdown",
   "metadata": {},
   "source": [
    "### Checking for Missing values "
   ]
  },
  {
   "cell_type": "code",
   "execution_count": 10,
   "metadata": {},
   "outputs": [
    {
     "data": {
      "text/plain": [
       "Car Make                 0\n",
       "Car Model                1\n",
       "Dealer or Individual     5\n",
       "Price                    2\n",
       "Year                     0\n",
       "Location                11\n",
       "Mileage                  7\n",
       "Doors                   16\n",
       "Color                    4\n",
       "Transmission             3\n",
       "VIN#                     1\n",
       "Engine                  13\n",
       "Description             99\n",
       "Web link                 1\n",
       "Screenshot              23\n",
       "dtype: int64"
      ]
     },
     "execution_count": 10,
     "metadata": {},
     "output_type": "execute_result"
    }
   ],
   "source": [
    "df_cars.isnull().sum()"
   ]
  },
  {
   "cell_type": "markdown",
   "metadata": {},
   "source": [
    "There is 1 mising value for Car Model, which I think is better to drop."
   ]
  },
  {
   "cell_type": "code",
   "execution_count": 12,
   "metadata": {},
   "outputs": [],
   "source": [
    "df_cars = df_cars.dropna(subset=['Car Model'])"
   ]
  },
  {
   "cell_type": "code",
   "execution_count": 30,
   "metadata": {},
   "outputs": [],
   "source": [
    "pd.options.mode.chained_assignment = None"
   ]
  },
  {
   "cell_type": "markdown",
   "metadata": {},
   "source": [
    "Dealer or Individual,Transmission,Engine,Doors : For the missing values, the most common type in the dataset"
   ]
  },
  {
   "cell_type": "code",
   "execution_count": 31,
   "metadata": {},
   "outputs": [],
   "source": [
    "df_cars['Dealer or Individual'].fillna(df_cars['Dealer or Individual'].mode()[0],inplace=True)\n",
    "df_cars['Location'].fillna(df_cars['Location'].mode()[0],inplace=True)\n",
    "df_cars['Doors'].fillna(df_cars['Doors'].mode()[0],inplace=True)\n",
    "df_cars['Transmission'].fillna(df_cars['Transmission'].mode()[0],inplace=True)\n",
    "df_cars['Engine'].fillna(df_cars['Engine'].mode()[0],inplace=True)                           "
   ]
  },
  {
   "cell_type": "markdown",
   "metadata": {},
   "source": [
    "For Price , imputing missing prices based on the median price of similar cars (same make, model, and year)."
   ]
  },
  {
   "cell_type": "code",
   "execution_count": 39,
   "metadata": {},
   "outputs": [],
   "source": [
    "df_cars['Price'].fillna(df_cars.groupby(['Car Make', 'Car Model', 'Year'])['Price'].transform('median'),inplace=True)"
   ]
  },
  {
   "cell_type": "markdown",
   "metadata": {},
   "source": [
    "For Mileage, imputing missing values using the average mileage of cars of the same make, model, year."
   ]
  },
  {
   "cell_type": "code",
   "execution_count": 40,
   "metadata": {},
   "outputs": [],
   "source": [
    "df_cars['Mileage'].fillna(df_cars.groupby(['Car Make', 'Car Model', 'Year'])['Mileage'].transform('mean'),inplace=True)"
   ]
  },
  {
   "cell_type": "markdown",
   "metadata": {},
   "source": [
    "For Colors, The Missing values can be labeled as 'Unknown', assuming that color might not significantly impact analysis focused on price, mileage specifications.\n",
    "\n",
    "For Description, given that 104 values are missing, its best to fill these with a placeholder like 'Description not provided'\n",
    "\n",
    "For Weblink, Screenshot, simply labeling it as 'Not available', as web links and screenshots are usually not crucial for statistical analysis."
   ]
  },
  {
   "cell_type": "code",
   "execution_count": 41,
   "metadata": {},
   "outputs": [],
   "source": [
    "df_cars['Color'].fillna('Unknown',inplace=True)\n",
    "df_cars['Description'].fillna('Description not provided',inplace=True)\n",
    "df_cars['Web link'].fillna('Not available',inplace=True)\n",
    "df_cars['Screenshot'].fillna('Not available',inplace=True)"
   ]
  },
  {
   "cell_type": "markdown",
   "metadata": {},
   "source": [
    " VIN# is crucial for analysis so excluding rows with missing VINs from your analysis."
   ]
  },
  {
   "cell_type": "code",
   "execution_count": 42,
   "metadata": {},
   "outputs": [],
   "source": [
    "df_cars = df_cars.dropna(subset=['VIN#'])"
   ]
  },
  {
   "cell_type": "code",
   "execution_count": 46,
   "metadata": {},
   "outputs": [
    {
     "data": {
      "text/html": [
       "<div>\n",
       "<style scoped>\n",
       "    .dataframe tbody tr th:only-of-type {\n",
       "        vertical-align: middle;\n",
       "    }\n",
       "\n",
       "    .dataframe tbody tr th {\n",
       "        vertical-align: top;\n",
       "    }\n",
       "\n",
       "    .dataframe thead th {\n",
       "        text-align: right;\n",
       "    }\n",
       "</style>\n",
       "<table border=\"1\" class=\"dataframe\">\n",
       "  <thead>\n",
       "    <tr style=\"text-align: right;\">\n",
       "      <th></th>\n",
       "      <th>Car Make</th>\n",
       "      <th>Car Model</th>\n",
       "      <th>Dealer or Individual</th>\n",
       "      <th>Price</th>\n",
       "      <th>Year</th>\n",
       "      <th>Location</th>\n",
       "      <th>Mileage</th>\n",
       "      <th>Doors</th>\n",
       "      <th>Color</th>\n",
       "      <th>Transmission</th>\n",
       "      <th>VIN#</th>\n",
       "      <th>Engine</th>\n",
       "      <th>Description</th>\n",
       "      <th>Web link</th>\n",
       "      <th>Screenshot</th>\n",
       "    </tr>\n",
       "  </thead>\n",
       "  <tbody>\n",
       "  </tbody>\n",
       "</table>\n",
       "</div>"
      ],
      "text/plain": [
       "Empty DataFrame\n",
       "Columns: [Car Make, Car Model, Dealer or Individual, Price, Year, Location, Mileage, Doors, Color, Transmission, VIN#, Engine, Description, Web link, Screenshot]\n",
       "Index: []"
      ]
     },
     "execution_count": 46,
     "metadata": {},
     "output_type": "execute_result"
    }
   ],
   "source": [
    "df_cars[df_cars.isnull().any(axis=1)]"
   ]
  },
  {
   "cell_type": "markdown",
   "metadata": {},
   "source": [
    "So, all the missing values are now handled."
   ]
  },
  {
   "cell_type": "markdown",
   "metadata": {},
   "source": [
    "### Handling inconsistencies "
   ]
  },
  {
   "cell_type": "markdown",
   "metadata": {},
   "source": [
    "Location : Location data appears to include dealership names and locations. I want to separate this to only include city and state."
   ]
  },
  {
   "cell_type": "code",
   "execution_count": 48,
   "metadata": {},
   "outputs": [],
   "source": [
    "df_cars['Location'] = df_cars['Location'].apply(lambda x: x.split(' in ')[-1])  #referred stackoverflow"
   ]
  },
  {
   "cell_type": "markdown",
   "metadata": {},
   "source": [
    "The Color column contains exterior and interior colors with different formats."
   ]
  },
  {
   "cell_type": "code",
   "execution_count": 66,
   "metadata": {},
   "outputs": [],
   "source": [
    "df_cars['Color'] = df_cars['Color'].apply(lambda x: x.replace('(ext)', '').replace('&', '').replace('(int)', '').strip())"
   ]
  },
  {
   "cell_type": "markdown",
   "metadata": {},
   "source": [
    "For Engine, I want to extract the displacement and cylinder type, and standardize the notation for cylinder configuration:"
   ]
  },
  {
   "cell_type": "code",
   "execution_count": 69,
   "metadata": {},
   "outputs": [],
   "source": [
    "import re\n",
    "\n",
    "df_cars['Standardized Engine'] = df_cars['Engine'].apply(lambda x: re.sub(r'(?i)(\\d\\.\\d)L\\s*([I4|V6|Cylinder]+).*', r'\\1L \\2', x).replace('Cylinder', 'Cyl').replace('I4', '4-Cyl').replace('V6', '6-Cyl').strip())"
   ]
  },
  {
   "cell_type": "markdown",
   "metadata": {},
   "source": [
    "Just to make sure the Car Make and Car Model data is consistent in a standard format."
   ]
  },
  {
   "cell_type": "code",
   "execution_count": 74,
   "metadata": {},
   "outputs": [],
   "source": [
    "df_cars['Car Make'] = df_cars['Car Make'].str.upper().str.strip()\n",
    "df_cars['Car Model'] = df_cars['Car Model'].str.upper().str.strip()"
   ]
  },
  {
   "cell_type": "markdown",
   "metadata": {},
   "source": [
    "Viewing the data after cleaning :"
   ]
  },
  {
   "cell_type": "code",
   "execution_count": 75,
   "metadata": {},
   "outputs": [
    {
     "data": {
      "text/html": [
       "<div>\n",
       "<style scoped>\n",
       "    .dataframe tbody tr th:only-of-type {\n",
       "        vertical-align: middle;\n",
       "    }\n",
       "\n",
       "    .dataframe tbody tr th {\n",
       "        vertical-align: top;\n",
       "    }\n",
       "\n",
       "    .dataframe thead th {\n",
       "        text-align: right;\n",
       "    }\n",
       "</style>\n",
       "<table border=\"1\" class=\"dataframe\">\n",
       "  <thead>\n",
       "    <tr style=\"text-align: right;\">\n",
       "      <th></th>\n",
       "      <th>Car Make</th>\n",
       "      <th>Car Model</th>\n",
       "      <th>Dealer or Individual</th>\n",
       "      <th>Price</th>\n",
       "      <th>Year</th>\n",
       "      <th>Location</th>\n",
       "      <th>Mileage</th>\n",
       "      <th>Doors</th>\n",
       "      <th>Color</th>\n",
       "      <th>Transmission</th>\n",
       "      <th>VIN#</th>\n",
       "      <th>Engine</th>\n",
       "      <th>Description</th>\n",
       "      <th>Web link</th>\n",
       "      <th>Screenshot</th>\n",
       "      <th>Standardized Engine</th>\n",
       "    </tr>\n",
       "  </thead>\n",
       "  <tbody>\n",
       "    <tr>\n",
       "      <th>0</th>\n",
       "      <td>TOYOTA</td>\n",
       "      <td>COROLLA</td>\n",
       "      <td>Dealer</td>\n",
       "      <td>16799.0</td>\n",
       "      <td>2019</td>\n",
       "      <td>Cheboygan, MI</td>\n",
       "      <td>61807.0</td>\n",
       "      <td>4</td>\n",
       "      <td>Silver       Black</td>\n",
       "      <td>Automatic</td>\n",
       "      <td>2T1BURHE0KC161295</td>\n",
       "      <td>1.8L I4 DOHC</td>\n",
       "      <td>Front-wheel drive, CVT transmission, automatic...</td>\n",
       "      <td>https://www.ferneliustoyota.net/inventory/used...</td>\n",
       "      <td>https://drive.google.com/open?id=1zXCuz7PcqJZA...</td>\n",
       "      <td>1.8L 4-Cyl</td>\n",
       "    </tr>\n",
       "    <tr>\n",
       "      <th>1</th>\n",
       "      <td>TOYOTA</td>\n",
       "      <td>RAV4</td>\n",
       "      <td>Dealer</td>\n",
       "      <td>33999.0</td>\n",
       "      <td>2021</td>\n",
       "      <td>Marquette, MI</td>\n",
       "      <td>35988.0</td>\n",
       "      <td>4</td>\n",
       "      <td>Silver Sky       Black</td>\n",
       "      <td>Automatic</td>\n",
       "      <td>2T3A1RFV3MW173876</td>\n",
       "      <td>I-4 cyl</td>\n",
       "      <td>All-wheel drive, lane assist, power moonroof, ...</td>\n",
       "      <td>https://www.riversidetoyotamarquette.com/used/...</td>\n",
       "      <td>https://drive.google.com/open?id=1TtYkyqq7U6c1...</td>\n",
       "      <td>I-4 cyl</td>\n",
       "    </tr>\n",
       "    <tr>\n",
       "      <th>2</th>\n",
       "      <td>TOYOTA</td>\n",
       "      <td>RAV4</td>\n",
       "      <td>Dealer</td>\n",
       "      <td>36575.0</td>\n",
       "      <td>2021</td>\n",
       "      <td>Escanaba, MI</td>\n",
       "      <td>18177.0</td>\n",
       "      <td>4</td>\n",
       "      <td>Silver Sky       Gray</td>\n",
       "      <td>Automatic</td>\n",
       "      <td>2T3N1RFV3MC146163</td>\n",
       "      <td>I-4 cyl</td>\n",
       "      <td>All-wheel drive, parking sensors, navigation s...</td>\n",
       "      <td>https://www.riversidetoyotamarquette.com/used/...</td>\n",
       "      <td>https://drive.google.com/open?id=1wjIhrGArk56d...</td>\n",
       "      <td>I-4 cyl</td>\n",
       "    </tr>\n",
       "    <tr>\n",
       "      <th>3</th>\n",
       "      <td>TOYOTA</td>\n",
       "      <td>RAV4</td>\n",
       "      <td>Dealer</td>\n",
       "      <td>32999.0</td>\n",
       "      <td>2022</td>\n",
       "      <td>Escanaba, MI</td>\n",
       "      <td>23043.0</td>\n",
       "      <td>4</td>\n",
       "      <td>Midnight Black       Black</td>\n",
       "      <td>Automatic</td>\n",
       "      <td>2T3P1RFV5NW280956</td>\n",
       "      <td>I-4 cyl</td>\n",
       "      <td>Lane assist, rear parking camera, auto highbea...</td>\n",
       "      <td>https://www.riversidetoyotamarquette.com/used/...</td>\n",
       "      <td>https://drive.google.com/open?id=1R9Ejfpz6u2eU...</td>\n",
       "      <td>I-4 cyl</td>\n",
       "    </tr>\n",
       "    <tr>\n",
       "      <th>4</th>\n",
       "      <td>TOYOTA</td>\n",
       "      <td>RAV4</td>\n",
       "      <td>Dealer</td>\n",
       "      <td>26999.0</td>\n",
       "      <td>2021</td>\n",
       "      <td>Marquette, MI</td>\n",
       "      <td>52091.0</td>\n",
       "      <td>4</td>\n",
       "      <td>Gray       Black</td>\n",
       "      <td>Automatic</td>\n",
       "      <td>2T3P1RFV6MC246993</td>\n",
       "      <td>I-4 cyl</td>\n",
       "      <td>Lane assist, rear parking camera, automatic hi...</td>\n",
       "      <td>https://www.riversidetoyotamarquette.com/certi...</td>\n",
       "      <td>https://drive.google.com/open?id=1o96XSGjg7Sia...</td>\n",
       "      <td>I-4 cyl</td>\n",
       "    </tr>\n",
       "    <tr>\n",
       "      <th>...</th>\n",
       "      <td>...</td>\n",
       "      <td>...</td>\n",
       "      <td>...</td>\n",
       "      <td>...</td>\n",
       "      <td>...</td>\n",
       "      <td>...</td>\n",
       "      <td>...</td>\n",
       "      <td>...</td>\n",
       "      <td>...</td>\n",
       "      <td>...</td>\n",
       "      <td>...</td>\n",
       "      <td>...</td>\n",
       "      <td>...</td>\n",
       "      <td>...</td>\n",
       "      <td>...</td>\n",
       "      <td>...</td>\n",
       "    </tr>\n",
       "    <tr>\n",
       "      <th>453</th>\n",
       "      <td>TOYOTA</td>\n",
       "      <td>RAV4</td>\n",
       "      <td>Dealer</td>\n",
       "      <td>21000.0</td>\n",
       "      <td>2021</td>\n",
       "      <td>Hemet, CA</td>\n",
       "      <td>68034.0</td>\n",
       "      <td>4</td>\n",
       "      <td>Midnight Black Metallic</td>\n",
       "      <td>Automatic</td>\n",
       "      <td>2T3W1RFV1MW115061</td>\n",
       "      <td>2.5L I4</td>\n",
       "      <td>One Owner | NO Accidents | Bluetooth | WiFi | ...</td>\n",
       "      <td>https://www.cargurus.com/Cars/inventorylisting...</td>\n",
       "      <td>https://drive.google.com/open?id=1ISwo5Dr7TIFs...</td>\n",
       "      <td>2.5L 4-Cyl</td>\n",
       "    </tr>\n",
       "    <tr>\n",
       "      <th>454</th>\n",
       "      <td>TOYOTA</td>\n",
       "      <td>RAV4</td>\n",
       "      <td>Dealer</td>\n",
       "      <td>13997.0</td>\n",
       "      <td>2015</td>\n",
       "      <td>Temecula, CA</td>\n",
       "      <td>140769.0</td>\n",
       "      <td>4</td>\n",
       "      <td>Super White</td>\n",
       "      <td>Automatic</td>\n",
       "      <td>2T3WFREV0FW142824</td>\n",
       "      <td>2.5L I4</td>\n",
       "      <td>Our Super White One Owner 2015 Toyota RAV4 XLE...</td>\n",
       "      <td>https://www.cargurus.com/Cars/inventorylisting...</td>\n",
       "      <td>https://drive.google.com/open?id=1B51YacWQO2C1...</td>\n",
       "      <td>2.5L 4-Cyl</td>\n",
       "    </tr>\n",
       "    <tr>\n",
       "      <th>455</th>\n",
       "      <td>TOYOTA</td>\n",
       "      <td>RAV4</td>\n",
       "      <td>Dealer</td>\n",
       "      <td>19895.0</td>\n",
       "      <td>2016</td>\n",
       "      <td>Escondido, CA</td>\n",
       "      <td>72466.0</td>\n",
       "      <td>4</td>\n",
       "      <td>Magnetic Gray</td>\n",
       "      <td>Automatic</td>\n",
       "      <td>JTMYFREV4GJ067733</td>\n",
       "      <td>2.5L I4</td>\n",
       "      <td>Recent Arrival! Advanced Technology Package, A...</td>\n",
       "      <td>https://www.cargurus.com/Cars/inventorylisting...</td>\n",
       "      <td>https://drive.google.com/open?id=1Gwk6yL0o4C3-...</td>\n",
       "      <td>2.5L 4-Cyl</td>\n",
       "    </tr>\n",
       "    <tr>\n",
       "      <th>456</th>\n",
       "      <td>TOYOTA</td>\n",
       "      <td>COROLLA</td>\n",
       "      <td>Dealer</td>\n",
       "      <td>19895.0</td>\n",
       "      <td>2023</td>\n",
       "      <td>Buena Park, CA</td>\n",
       "      <td>19242.0</td>\n",
       "      <td>4</td>\n",
       "      <td>Silver</td>\n",
       "      <td>Automatic</td>\n",
       "      <td>5YFB4MDE1PP009817</td>\n",
       "      <td>2L I4</td>\n",
       "      <td>Classic Silver Metallic 2023 Toyota Corolla LE...</td>\n",
       "      <td>https://www.cargurus.com/Cars/inventorylisting...</td>\n",
       "      <td>https://drive.google.com/open?id=1VICpxkMeb7Q8...</td>\n",
       "      <td>2L 4-Cyl</td>\n",
       "    </tr>\n",
       "    <tr>\n",
       "      <th>457</th>\n",
       "      <td>TOYOTA</td>\n",
       "      <td>COROLLA</td>\n",
       "      <td>Dealer</td>\n",
       "      <td>22670.0</td>\n",
       "      <td>2023</td>\n",
       "      <td>Torrance, CA</td>\n",
       "      <td>13482.0</td>\n",
       "      <td>4</td>\n",
       "      <td>Ice Cap</td>\n",
       "      <td>Automatic</td>\n",
       "      <td>5YFB4MDE3PP012704</td>\n",
       "      <td>2L I4</td>\n",
       "      <td>CARFAX One-Owner. Clean CARFAX. Certified. Ice...</td>\n",
       "      <td>https://www.cargurus.com/Cars/inventorylisting...</td>\n",
       "      <td>https://drive.google.com/open?id=1eaJGkBq_kAJ0...</td>\n",
       "      <td>2L 4-Cyl</td>\n",
       "    </tr>\n",
       "  </tbody>\n",
       "</table>\n",
       "<p>435 rows × 16 columns</p>\n",
       "</div>"
      ],
      "text/plain": [
       "    Car Make Car Model Dealer or Individual    Price  Year        Location  \\\n",
       "0     TOYOTA   COROLLA               Dealer  16799.0  2019   Cheboygan, MI   \n",
       "1     TOYOTA      RAV4               Dealer  33999.0  2021   Marquette, MI   \n",
       "2     TOYOTA      RAV4               Dealer  36575.0  2021    Escanaba, MI   \n",
       "3     TOYOTA      RAV4               Dealer  32999.0  2022    Escanaba, MI   \n",
       "4     TOYOTA      RAV4               Dealer  26999.0  2021   Marquette, MI   \n",
       "..       ...       ...                  ...      ...   ...             ...   \n",
       "453   TOYOTA      RAV4               Dealer  21000.0  2021       Hemet, CA   \n",
       "454   TOYOTA      RAV4               Dealer  13997.0  2015    Temecula, CA   \n",
       "455   TOYOTA      RAV4               Dealer  19895.0  2016   Escondido, CA   \n",
       "456   TOYOTA   COROLLA               Dealer  19895.0  2023  Buena Park, CA   \n",
       "457   TOYOTA   COROLLA               Dealer  22670.0  2023    Torrance, CA   \n",
       "\n",
       "      Mileage Doors                       Color Transmission  \\\n",
       "0     61807.0     4          Silver       Black    Automatic   \n",
       "1     35988.0     4      Silver Sky       Black    Automatic   \n",
       "2     18177.0     4       Silver Sky       Gray    Automatic   \n",
       "3     23043.0     4  Midnight Black       Black    Automatic   \n",
       "4     52091.0     4            Gray       Black    Automatic   \n",
       "..        ...   ...                         ...          ...   \n",
       "453   68034.0     4     Midnight Black Metallic    Automatic   \n",
       "454  140769.0     4                 Super White    Automatic   \n",
       "455   72466.0     4               Magnetic Gray    Automatic   \n",
       "456   19242.0     4                      Silver    Automatic   \n",
       "457   13482.0     4                     Ice Cap    Automatic   \n",
       "\n",
       "                  VIN#        Engine  \\\n",
       "0    2T1BURHE0KC161295  1.8L I4 DOHC   \n",
       "1    2T3A1RFV3MW173876       I-4 cyl   \n",
       "2    2T3N1RFV3MC146163       I-4 cyl   \n",
       "3    2T3P1RFV5NW280956       I-4 cyl   \n",
       "4    2T3P1RFV6MC246993       I-4 cyl   \n",
       "..                 ...           ...   \n",
       "453  2T3W1RFV1MW115061       2.5L I4   \n",
       "454  2T3WFREV0FW142824       2.5L I4   \n",
       "455  JTMYFREV4GJ067733       2.5L I4   \n",
       "456  5YFB4MDE1PP009817         2L I4   \n",
       "457  5YFB4MDE3PP012704         2L I4   \n",
       "\n",
       "                                           Description  \\\n",
       "0    Front-wheel drive, CVT transmission, automatic...   \n",
       "1    All-wheel drive, lane assist, power moonroof, ...   \n",
       "2    All-wheel drive, parking sensors, navigation s...   \n",
       "3    Lane assist, rear parking camera, auto highbea...   \n",
       "4    Lane assist, rear parking camera, automatic hi...   \n",
       "..                                                 ...   \n",
       "453  One Owner | NO Accidents | Bluetooth | WiFi | ...   \n",
       "454  Our Super White One Owner 2015 Toyota RAV4 XLE...   \n",
       "455  Recent Arrival! Advanced Technology Package, A...   \n",
       "456  Classic Silver Metallic 2023 Toyota Corolla LE...   \n",
       "457  CARFAX One-Owner. Clean CARFAX. Certified. Ice...   \n",
       "\n",
       "                                              Web link  \\\n",
       "0    https://www.ferneliustoyota.net/inventory/used...   \n",
       "1    https://www.riversidetoyotamarquette.com/used/...   \n",
       "2    https://www.riversidetoyotamarquette.com/used/...   \n",
       "3    https://www.riversidetoyotamarquette.com/used/...   \n",
       "4    https://www.riversidetoyotamarquette.com/certi...   \n",
       "..                                                 ...   \n",
       "453  https://www.cargurus.com/Cars/inventorylisting...   \n",
       "454  https://www.cargurus.com/Cars/inventorylisting...   \n",
       "455  https://www.cargurus.com/Cars/inventorylisting...   \n",
       "456  https://www.cargurus.com/Cars/inventorylisting...   \n",
       "457  https://www.cargurus.com/Cars/inventorylisting...   \n",
       "\n",
       "                                            Screenshot Standardized Engine  \n",
       "0    https://drive.google.com/open?id=1zXCuz7PcqJZA...          1.8L 4-Cyl  \n",
       "1    https://drive.google.com/open?id=1TtYkyqq7U6c1...             I-4 cyl  \n",
       "2    https://drive.google.com/open?id=1wjIhrGArk56d...             I-4 cyl  \n",
       "3    https://drive.google.com/open?id=1R9Ejfpz6u2eU...             I-4 cyl  \n",
       "4    https://drive.google.com/open?id=1o96XSGjg7Sia...             I-4 cyl  \n",
       "..                                                 ...                 ...  \n",
       "453  https://drive.google.com/open?id=1ISwo5Dr7TIFs...          2.5L 4-Cyl  \n",
       "454  https://drive.google.com/open?id=1B51YacWQO2C1...          2.5L 4-Cyl  \n",
       "455  https://drive.google.com/open?id=1Gwk6yL0o4C3-...          2.5L 4-Cyl  \n",
       "456  https://drive.google.com/open?id=1VICpxkMeb7Q8...            2L 4-Cyl  \n",
       "457  https://drive.google.com/open?id=1eaJGkBq_kAJ0...            2L 4-Cyl  \n",
       "\n",
       "[435 rows x 16 columns]"
      ]
     },
     "execution_count": 75,
     "metadata": {},
     "output_type": "execute_result"
    }
   ],
   "source": [
    "df_cars"
   ]
  },
  {
   "cell_type": "markdown",
   "metadata": {},
   "source": [
    "## Export Cleaned Data\n",
    "Save the output of your data cleaning to `hw2-clean-data.csv`"
   ]
  },
  {
   "cell_type": "code",
   "execution_count": 76,
   "metadata": {},
   "outputs": [],
   "source": [
    "df_cars.to_csv(\"hw2-clean-data.csv\")"
   ]
  },
  {
   "cell_type": "markdown",
   "metadata": {},
   "source": [
    "# Part 2:  Exploratory Data Analysis\n",
    "At a minimum, the EDA should include looking at some summary statistics, recognizing any issues with the data or key insights, and visual inspection of important data columns. We expect at least 3 visualizations."
   ]
  },
  {
   "cell_type": "code",
   "execution_count": 77,
   "metadata": {},
   "outputs": [
    {
     "data": {
      "text/html": [
       "<div>\n",
       "<style scoped>\n",
       "    .dataframe tbody tr th:only-of-type {\n",
       "        vertical-align: middle;\n",
       "    }\n",
       "\n",
       "    .dataframe tbody tr th {\n",
       "        vertical-align: top;\n",
       "    }\n",
       "\n",
       "    .dataframe thead th {\n",
       "        text-align: right;\n",
       "    }\n",
       "</style>\n",
       "<table border=\"1\" class=\"dataframe\">\n",
       "  <thead>\n",
       "    <tr style=\"text-align: right;\">\n",
       "      <th></th>\n",
       "      <th>Price</th>\n",
       "      <th>Year</th>\n",
       "      <th>Mileage</th>\n",
       "    </tr>\n",
       "  </thead>\n",
       "  <tbody>\n",
       "    <tr>\n",
       "      <th>count</th>\n",
       "      <td>435.000000</td>\n",
       "      <td>435.000000</td>\n",
       "      <td>435.000000</td>\n",
       "    </tr>\n",
       "    <tr>\n",
       "      <th>mean</th>\n",
       "      <td>19684.110299</td>\n",
       "      <td>2174.432184</td>\n",
       "      <td>63952.142437</td>\n",
       "    </tr>\n",
       "    <tr>\n",
       "      <th>std</th>\n",
       "      <td>7857.027928</td>\n",
       "      <td>3277.648678</td>\n",
       "      <td>51031.928062</td>\n",
       "    </tr>\n",
       "    <tr>\n",
       "      <th>min</th>\n",
       "      <td>3900.000000</td>\n",
       "      <td>2006.000000</td>\n",
       "      <td>0.000000</td>\n",
       "    </tr>\n",
       "    <tr>\n",
       "      <th>25%</th>\n",
       "      <td>13997.500000</td>\n",
       "      <td>2014.000000</td>\n",
       "      <td>22454.500000</td>\n",
       "    </tr>\n",
       "    <tr>\n",
       "      <th>50%</th>\n",
       "      <td>19398.000000</td>\n",
       "      <td>2018.000000</td>\n",
       "      <td>57377.000000</td>\n",
       "    </tr>\n",
       "    <tr>\n",
       "      <th>75%</th>\n",
       "      <td>24924.500000</td>\n",
       "      <td>2021.000000</td>\n",
       "      <td>94767.000000</td>\n",
       "    </tr>\n",
       "    <tr>\n",
       "      <th>max</th>\n",
       "      <td>46461.000000</td>\n",
       "      <td>70378.000000</td>\n",
       "      <td>264997.000000</td>\n",
       "    </tr>\n",
       "  </tbody>\n",
       "</table>\n",
       "</div>"
      ],
      "text/plain": [
       "              Price          Year        Mileage\n",
       "count    435.000000    435.000000     435.000000\n",
       "mean   19684.110299   2174.432184   63952.142437\n",
       "std     7857.027928   3277.648678   51031.928062\n",
       "min     3900.000000   2006.000000       0.000000\n",
       "25%    13997.500000   2014.000000   22454.500000\n",
       "50%    19398.000000   2018.000000   57377.000000\n",
       "75%    24924.500000   2021.000000   94767.000000\n",
       "max    46461.000000  70378.000000  264997.000000"
      ]
     },
     "execution_count": 77,
     "metadata": {},
     "output_type": "execute_result"
    }
   ],
   "source": [
    "df_cars.describe()"
   ]
  },
  {
   "cell_type": "markdown",
   "metadata": {},
   "source": [
    "Generating counts for categorical columns to understand the distribution"
   ]
  },
  {
   "cell_type": "code",
   "execution_count": 80,
   "metadata": {},
   "outputs": [
    {
     "name": "stdout",
     "output_type": "stream",
     "text": [
      "Car Make                0\n",
      "Car Model               0\n",
      "Dealer or Individual    0\n",
      "Price                   0\n",
      "Year                    0\n",
      "Location                0\n",
      "Mileage                 0\n",
      "Doors                   0\n",
      "Color                   0\n",
      "Transmission            0\n",
      "VIN#                    0\n",
      "Engine                  0\n",
      "Description             0\n",
      "Web link                0\n",
      "Screenshot              0\n",
      "Standardized Engine     0\n",
      "dtype: int64\n"
     ]
    }
   ],
   "source": [
    "print(df_cars.isnull().sum())"
   ]
  },
  {
   "cell_type": "markdown",
   "metadata": {},
   "source": [
    "##### Visualizing Price Distribution"
   ]
  },
  {
   "cell_type": "markdown",
   "metadata": {},
   "source": [
    "### Distribution Plot for Prices"
   ]
  },
  {
   "cell_type": "code",
   "execution_count": 100,
   "metadata": {},
   "outputs": [
    {
     "data": {
      "image/png": "[encoded data removed]",
      "text/plain": [
       "<Figure size 1000x600 with 1 Axes>"
      ]
     },
     "metadata": {},
     "output_type": "display_data"
    }
   ],
   "source": [
    "plt.figure(figsize=(10, 6))\n",
    "sns.histplot(df_cars['Price'], kde=True, bins=30, color='skyblue')\n",
    "plt.title('Distribution of Car Prices', fontsize=14)\n",
    "plt.xlabel('Price', fontsize=12)\n",
    "plt.ylabel('Frequency', fontsize=12)\n",
    "plt.show()"
   ]
  },
  {
   "cell_type": "markdown",
   "metadata": {},
   "source": [
    "### Line Plot: Show the trend of average car prices over the years."
   ]
  },
  {
   "cell_type": "code",
   "execution_count": 133,
   "metadata": {},
   "outputs": [
    {
     "data": {
      "image/png": "[encoded data removed]",
      "text/plain": [
       "<Figure size 1000x600 with 1 Axes>"
      ]
     },
     "metadata": {},
     "output_type": "display_data"
    }
   ],
   "source": [
    "df_filtered = df_cars[df_cars['Year'] != 70378] # I missed this while cleaning the data.\n",
    "avg_price_by_year = df_filtered.groupby('Year')['Price'].mean().reset_index()\n",
    "\n",
    "plt.figure(figsize=(10, 6))\n",
    "sns.lineplot(x='Year', y='Price', data=avg_price_by_year)\n",
    "plt.title('Average Car Price Over Years')\n",
    "plt.xlabel('Year')\n",
    "plt.ylabel('Average Price')\n",
    "plt.show()\n"
   ]
  },
  {
   "cell_type": "markdown",
   "metadata": {},
   "source": [
    "### Visualization for Number of Listings per Year"
   ]
  },
  {
   "cell_type": "code",
   "execution_count": 131,
   "metadata": {},
   "outputs": [
    {
     "data": {
      "image/png": "[encoded data removed]",
      "text/plain": [
       "<Figure size 1400x800 with 1 Axes>"
      ]
     },
     "metadata": {},
     "output_type": "display_data"
    }
   ],
   "source": [
    "plt.figure(figsize=(14, 8))\n",
    "sns.countplot(x='Year', data=df_filtered, palette='viridis')\n",
    "plt.title('Number of Car Listings per Year', fontsize=14)\n",
    "plt.xlabel('Year of Manufacture', fontsize=12)\n",
    "plt.ylabel('Number of Listings', fontsize=12)\n",
    "plt.show()\n"
   ]
  },
  {
   "cell_type": "markdown",
   "metadata": {},
   "source": [
    "### Scatter Plot\n",
    "Shows car prices over the years, giving an impression of the relationship between year and price"
   ]
  },
  {
   "cell_type": "code",
   "execution_count": 134,
   "metadata": {},
   "outputs": [
    {
     "data": {
      "image/png": "[encoded data removed]",
      "text/plain": [
       "<Figure size 1200x800 with 1 Axes>"
      ]
     },
     "metadata": {},
     "output_type": "display_data"
    }
   ],
   "source": [
    "plt.figure(figsize=(12, 8))\n",
    "sns.scatterplot(x='Year', y='Price', data=df_filtered, alpha=0.6)\n",
    "plt.title('Car Prices by Year of Manufacture', fontsize=16)\n",
    "plt.xlabel('Year of Manufacture', fontsize=14)\n",
    "plt.ylabel('Price', fontsize=14)\n",
    "plt.show()\n"
   ]
  },
  {
   "cell_type": "markdown",
   "metadata": {},
   "source": [
    "# Part 3: Question\n",
    "\n",
    "Pose a question that you believe can be answered from the data. This should be in a clearly identified section in the same notebook."
   ]
  },
  {
   "cell_type": "markdown",
   "metadata": {},
   "source": [
    "### How does the year of manufacture affect the price of cars? Is there a clear trend that shows depreciation or appreciation over time?"
   ]
  },
  {
   "cell_type": "markdown",
   "metadata": {},
   "source": [
    "# Part 4: Reflection\n",
    "\n",
    "Insert here a reflection of your process. Did you feel you did the most efficient process to clean the dataset? Would your process be repeatable if you got a new dataset regularly with additional listings, or would it require much manual effort with each effort? Do you feel you adequately explored the dataset?   Do you feel your question is a good data science question (e.g. answerable, interesting, and at the right granularity).  \n",
    "\n",
    "This section will not influence your grade on the above sections, so please feel free to be honest."
   ]
  },
  {
   "cell_type": "markdown",
   "metadata": {},
   "source": [
    "* Yes, I feel like I did an efficient process to clean the dataset. But while doing EDA ,I felt like I missed a few details.\n",
    "\n",
    "* Yes, the process will be repeatable if I got a new dataset regularly with additional listings.\n",
    "\n",
    "* No, I feel like I should have gone through each row carefully, (though I did)\n",
    "\n",
    "* Yes , I feel liek my question is interesting and answerable ."
   ]
  }
 ],
 "metadata": {
  "kernelspec": {
   "display_name": "Python 3 (ipykernel)",
   "language": "python",
   "name": "python3"
  },
  "language_info": {
   "codemirror_mode": {
    "name": "ipython",
    "version": 3
   },
   "file_extension": ".py",
   "mimetype": "text/x-python",
   "name": "python",
   "nbconvert_exporter": "python",
   "pygments_lexer": "ipython3",
   "version": "3.11.5"
  }
 },
 "nbformat": 4,
 "nbformat_minor": 2
}
